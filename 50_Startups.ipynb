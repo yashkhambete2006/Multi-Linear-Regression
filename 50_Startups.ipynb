{
 "cells": [
  {
   "cell_type": "code",
   "execution_count": 1,
   "id": "75ec5aa9",
   "metadata": {},
   "outputs": [],
   "source": [
    "import pandas as pd"
   ]
  },
  {
   "cell_type": "code",
   "execution_count": 2,
   "id": "12bfaf5f",
   "metadata": {},
   "outputs": [],
   "source": [
    "import matplotlib.pyplot as plt"
   ]
  },
  {
   "cell_type": "code",
   "execution_count": 3,
   "id": "fe3a39a9",
   "metadata": {},
   "outputs": [],
   "source": [
    "import seaborn as sns"
   ]
  },
  {
   "cell_type": "code",
   "execution_count": 4,
   "id": "ef6104ca",
   "metadata": {},
   "outputs": [],
   "source": [
    "from statsmodels.graphics.regressionplots import influence_plot"
   ]
  },
  {
   "cell_type": "code",
   "execution_count": 5,
   "id": "1b79c9c2",
   "metadata": {},
   "outputs": [],
   "source": [
    "import statsmodels.api as smf"
   ]
  },
  {
   "cell_type": "code",
   "execution_count": 6,
   "id": "b5a68464",
   "metadata": {},
   "outputs": [],
   "source": [
    "import numpy as np"
   ]
  },
  {
   "cell_type": "code",
   "execution_count": 7,
   "id": "4a3fa128",
   "metadata": {},
   "outputs": [],
   "source": [
    "compdata = pd.read_csv(\"50_Startups.csv\")"
   ]
  },
  {
   "cell_type": "code",
   "execution_count": 8,
   "id": "0d834317",
   "metadata": {},
   "outputs": [
    {
     "data": {
      "text/html": [
       "<div>\n",
       "<style scoped>\n",
       "    .dataframe tbody tr th:only-of-type {\n",
       "        vertical-align: middle;\n",
       "    }\n",
       "\n",
       "    .dataframe tbody tr th {\n",
       "        vertical-align: top;\n",
       "    }\n",
       "\n",
       "    .dataframe thead th {\n",
       "        text-align: right;\n",
       "    }\n",
       "</style>\n",
       "<table border=\"1\" class=\"dataframe\">\n",
       "  <thead>\n",
       "    <tr style=\"text-align: right;\">\n",
       "      <th></th>\n",
       "      <th>R&amp;D Spend</th>\n",
       "      <th>Administration</th>\n",
       "      <th>Marketing Spend</th>\n",
       "      <th>State</th>\n",
       "      <th>Profit</th>\n",
       "    </tr>\n",
       "  </thead>\n",
       "  <tbody>\n",
       "    <tr>\n",
       "      <th>0</th>\n",
       "      <td>165349.20</td>\n",
       "      <td>136897.80</td>\n",
       "      <td>471784.10</td>\n",
       "      <td>New York</td>\n",
       "      <td>192261.83</td>\n",
       "    </tr>\n",
       "    <tr>\n",
       "      <th>1</th>\n",
       "      <td>162597.70</td>\n",
       "      <td>151377.59</td>\n",
       "      <td>443898.53</td>\n",
       "      <td>California</td>\n",
       "      <td>191792.06</td>\n",
       "    </tr>\n",
       "    <tr>\n",
       "      <th>2</th>\n",
       "      <td>153441.51</td>\n",
       "      <td>101145.55</td>\n",
       "      <td>407934.54</td>\n",
       "      <td>Florida</td>\n",
       "      <td>191050.39</td>\n",
       "    </tr>\n",
       "    <tr>\n",
       "      <th>3</th>\n",
       "      <td>144372.41</td>\n",
       "      <td>118671.85</td>\n",
       "      <td>383199.62</td>\n",
       "      <td>New York</td>\n",
       "      <td>182901.99</td>\n",
       "    </tr>\n",
       "    <tr>\n",
       "      <th>4</th>\n",
       "      <td>142107.34</td>\n",
       "      <td>91391.77</td>\n",
       "      <td>366168.42</td>\n",
       "      <td>Florida</td>\n",
       "      <td>166187.94</td>\n",
       "    </tr>\n",
       "  </tbody>\n",
       "</table>\n",
       "</div>"
      ],
      "text/plain": [
       "   R&D Spend  Administration  Marketing Spend       State     Profit\n",
       "0  165349.20       136897.80        471784.10    New York  192261.83\n",
       "1  162597.70       151377.59        443898.53  California  191792.06\n",
       "2  153441.51       101145.55        407934.54     Florida  191050.39\n",
       "3  144372.41       118671.85        383199.62    New York  182901.99\n",
       "4  142107.34        91391.77        366168.42     Florida  166187.94"
      ]
     },
     "execution_count": 8,
     "metadata": {},
     "output_type": "execute_result"
    }
   ],
   "source": [
    "compdata.head()"
   ]
  },
  {
   "cell_type": "code",
   "execution_count": 9,
   "id": "7aa9f9f4",
   "metadata": {},
   "outputs": [
    {
     "name": "stdout",
     "output_type": "stream",
     "text": [
      "<class 'pandas.core.frame.DataFrame'>\n",
      "RangeIndex: 50 entries, 0 to 49\n",
      "Data columns (total 5 columns):\n",
      " #   Column           Non-Null Count  Dtype  \n",
      "---  ------           --------------  -----  \n",
      " 0   R&D Spend        50 non-null     float64\n",
      " 1   Administration   50 non-null     float64\n",
      " 2   Marketing Spend  50 non-null     float64\n",
      " 3   State            50 non-null     object \n",
      " 4   Profit           50 non-null     float64\n",
      "dtypes: float64(4), object(1)\n",
      "memory usage: 2.1+ KB\n"
     ]
    }
   ],
   "source": [
    "compdata.info()"
   ]
  },
  {
   "cell_type": "code",
   "execution_count": 10,
   "id": "4d039c09",
   "metadata": {},
   "outputs": [
    {
     "data": {
      "text/html": [
       "<div>\n",
       "<style scoped>\n",
       "    .dataframe tbody tr th:only-of-type {\n",
       "        vertical-align: middle;\n",
       "    }\n",
       "\n",
       "    .dataframe tbody tr th {\n",
       "        vertical-align: top;\n",
       "    }\n",
       "\n",
       "    .dataframe thead th {\n",
       "        text-align: right;\n",
       "    }\n",
       "</style>\n",
       "<table border=\"1\" class=\"dataframe\">\n",
       "  <thead>\n",
       "    <tr style=\"text-align: right;\">\n",
       "      <th></th>\n",
       "      <th>R&amp;D Spend</th>\n",
       "      <th>Administration</th>\n",
       "      <th>Marketing Spend</th>\n",
       "      <th>Profit</th>\n",
       "    </tr>\n",
       "    <tr>\n",
       "      <th>State</th>\n",
       "      <th></th>\n",
       "      <th></th>\n",
       "      <th></th>\n",
       "      <th></th>\n",
       "    </tr>\n",
       "  </thead>\n",
       "  <tbody>\n",
       "    <tr>\n",
       "      <th>California</th>\n",
       "      <td>64657.674118</td>\n",
       "      <td>120746.507059</td>\n",
       "      <td>182540.929412</td>\n",
       "      <td>103905.175294</td>\n",
       "    </tr>\n",
       "    <tr>\n",
       "      <th>Florida</th>\n",
       "      <td>80724.016250</td>\n",
       "      <td>121768.897500</td>\n",
       "      <td>247323.551250</td>\n",
       "      <td>118774.024375</td>\n",
       "    </tr>\n",
       "    <tr>\n",
       "      <th>New York</th>\n",
       "      <td>76195.062353</td>\n",
       "      <td>121543.470588</td>\n",
       "      <td>205346.015882</td>\n",
       "      <td>113756.446471</td>\n",
       "    </tr>\n",
       "  </tbody>\n",
       "</table>\n",
       "</div>"
      ],
      "text/plain": [
       "               R&D Spend  Administration  Marketing Spend         Profit\n",
       "State                                                                   \n",
       "California  64657.674118   120746.507059    182540.929412  103905.175294\n",
       "Florida     80724.016250   121768.897500    247323.551250  118774.024375\n",
       "New York    76195.062353   121543.470588    205346.015882  113756.446471"
      ]
     },
     "execution_count": 10,
     "metadata": {},
     "output_type": "execute_result"
    }
   ],
   "source": [
    "compdata.groupby(\"State\").mean()"
   ]
  },
  {
   "cell_type": "code",
   "execution_count": 11,
   "id": "e791229e",
   "metadata": {},
   "outputs": [
    {
     "data": {
      "text/html": [
       "<div>\n",
       "<style scoped>\n",
       "    .dataframe tbody tr th:only-of-type {\n",
       "        vertical-align: middle;\n",
       "    }\n",
       "\n",
       "    .dataframe tbody tr th {\n",
       "        vertical-align: top;\n",
       "    }\n",
       "\n",
       "    .dataframe thead th {\n",
       "        text-align: right;\n",
       "    }\n",
       "</style>\n",
       "<table border=\"1\" class=\"dataframe\">\n",
       "  <thead>\n",
       "    <tr style=\"text-align: right;\">\n",
       "      <th></th>\n",
       "      <th>R&amp;D Spend</th>\n",
       "      <th>Administration</th>\n",
       "      <th>Marketing Spend</th>\n",
       "      <th>State</th>\n",
       "      <th>Profit</th>\n",
       "    </tr>\n",
       "  </thead>\n",
       "  <tbody>\n",
       "    <tr>\n",
       "      <th>0</th>\n",
       "      <td>165349.20</td>\n",
       "      <td>136897.80</td>\n",
       "      <td>471784.10</td>\n",
       "      <td>New York</td>\n",
       "      <td>192261.83</td>\n",
       "    </tr>\n",
       "    <tr>\n",
       "      <th>1</th>\n",
       "      <td>162597.70</td>\n",
       "      <td>151377.59</td>\n",
       "      <td>443898.53</td>\n",
       "      <td>California</td>\n",
       "      <td>191792.06</td>\n",
       "    </tr>\n",
       "    <tr>\n",
       "      <th>2</th>\n",
       "      <td>153441.51</td>\n",
       "      <td>101145.55</td>\n",
       "      <td>407934.54</td>\n",
       "      <td>Florida</td>\n",
       "      <td>191050.39</td>\n",
       "    </tr>\n",
       "    <tr>\n",
       "      <th>3</th>\n",
       "      <td>144372.41</td>\n",
       "      <td>118671.85</td>\n",
       "      <td>383199.62</td>\n",
       "      <td>New York</td>\n",
       "      <td>182901.99</td>\n",
       "    </tr>\n",
       "    <tr>\n",
       "      <th>4</th>\n",
       "      <td>142107.34</td>\n",
       "      <td>91391.77</td>\n",
       "      <td>366168.42</td>\n",
       "      <td>Florida</td>\n",
       "      <td>166187.94</td>\n",
       "    </tr>\n",
       "  </tbody>\n",
       "</table>\n",
       "</div>"
      ],
      "text/plain": [
       "   R&D Spend  Administration  Marketing Spend       State     Profit\n",
       "0  165349.20       136897.80        471784.10    New York  192261.83\n",
       "1  162597.70       151377.59        443898.53  California  191792.06\n",
       "2  153441.51       101145.55        407934.54     Florida  191050.39\n",
       "3  144372.41       118671.85        383199.62    New York  182901.99\n",
       "4  142107.34        91391.77        366168.42     Florida  166187.94"
      ]
     },
     "execution_count": 11,
     "metadata": {},
     "output_type": "execute_result"
    }
   ],
   "source": [
    "compdata.head()"
   ]
  },
  {
   "cell_type": "code",
   "execution_count": 12,
   "id": "5d1904c6",
   "metadata": {},
   "outputs": [
    {
     "data": {
      "text/plain": [
       "<seaborn.axisgrid.PairGrid at 0x21afef20d30>"
      ]
     },
     "execution_count": 12,
     "metadata": {},
     "output_type": "execute_result"
    },
    {
     "data": {
      "image/png": "[encoded data removed]",
      "text/plain": [
       "<Figure size 720x720 with 20 Axes>"
      ]
     },
     "metadata": {},
     "output_type": "display_data"
    }
   ],
   "source": [
    "sns.set_style(style='darkgrid')\n",
    "sns.pairplot(compdata)"
   ]
  },
  {
   "cell_type": "code",
   "execution_count": 13,
   "id": "ac61b2fa",
   "metadata": {},
   "outputs": [],
   "source": [
    "compdata = pd.get_dummies(compdata,drop_first= True)"
   ]
  },
  {
   "cell_type": "code",
   "execution_count": 14,
   "id": "335a4181",
   "metadata": {},
   "outputs": [
    {
     "data": {
      "text/html": [
       "<div>\n",
       "<style scoped>\n",
       "    .dataframe tbody tr th:only-of-type {\n",
       "        vertical-align: middle;\n",
       "    }\n",
       "\n",
       "    .dataframe tbody tr th {\n",
       "        vertical-align: top;\n",
       "    }\n",
       "\n",
       "    .dataframe thead th {\n",
       "        text-align: right;\n",
       "    }\n",
       "</style>\n",
       "<table border=\"1\" class=\"dataframe\">\n",
       "  <thead>\n",
       "    <tr style=\"text-align: right;\">\n",
       "      <th></th>\n",
       "      <th>R&amp;D Spend</th>\n",
       "      <th>Administration</th>\n",
       "      <th>Marketing Spend</th>\n",
       "      <th>Profit</th>\n",
       "      <th>State_Florida</th>\n",
       "      <th>State_New York</th>\n",
       "    </tr>\n",
       "  </thead>\n",
       "  <tbody>\n",
       "    <tr>\n",
       "      <th>0</th>\n",
       "      <td>165349.20</td>\n",
       "      <td>136897.80</td>\n",
       "      <td>471784.10</td>\n",
       "      <td>192261.83</td>\n",
       "      <td>0</td>\n",
       "      <td>1</td>\n",
       "    </tr>\n",
       "    <tr>\n",
       "      <th>1</th>\n",
       "      <td>162597.70</td>\n",
       "      <td>151377.59</td>\n",
       "      <td>443898.53</td>\n",
       "      <td>191792.06</td>\n",
       "      <td>0</td>\n",
       "      <td>0</td>\n",
       "    </tr>\n",
       "    <tr>\n",
       "      <th>2</th>\n",
       "      <td>153441.51</td>\n",
       "      <td>101145.55</td>\n",
       "      <td>407934.54</td>\n",
       "      <td>191050.39</td>\n",
       "      <td>1</td>\n",
       "      <td>0</td>\n",
       "    </tr>\n",
       "    <tr>\n",
       "      <th>3</th>\n",
       "      <td>144372.41</td>\n",
       "      <td>118671.85</td>\n",
       "      <td>383199.62</td>\n",
       "      <td>182901.99</td>\n",
       "      <td>0</td>\n",
       "      <td>1</td>\n",
       "    </tr>\n",
       "    <tr>\n",
       "      <th>4</th>\n",
       "      <td>142107.34</td>\n",
       "      <td>91391.77</td>\n",
       "      <td>366168.42</td>\n",
       "      <td>166187.94</td>\n",
       "      <td>1</td>\n",
       "      <td>0</td>\n",
       "    </tr>\n",
       "  </tbody>\n",
       "</table>\n",
       "</div>"
      ],
      "text/plain": [
       "   R&D Spend  Administration  Marketing Spend     Profit  State_Florida  \\\n",
       "0  165349.20       136897.80        471784.10  192261.83              0   \n",
       "1  162597.70       151377.59        443898.53  191792.06              0   \n",
       "2  153441.51       101145.55        407934.54  191050.39              1   \n",
       "3  144372.41       118671.85        383199.62  182901.99              0   \n",
       "4  142107.34        91391.77        366168.42  166187.94              1   \n",
       "\n",
       "   State_New York  \n",
       "0               1  \n",
       "1               0  \n",
       "2               0  \n",
       "3               1  \n",
       "4               0  "
      ]
     },
     "execution_count": 14,
     "metadata": {},
     "output_type": "execute_result"
    }
   ],
   "source": [
    "compdata.head()"
   ]
  },
  {
   "cell_type": "code",
   "execution_count": 15,
   "id": "c31f4792",
   "metadata": {},
   "outputs": [],
   "source": [
    "x = compdata.drop(\"Profit\", axis= 1)\n",
    "y = compdata[\"Profit\"]"
   ]
  },
  {
   "cell_type": "code",
   "execution_count": 16,
   "id": "ce2a9a31",
   "metadata": {},
   "outputs": [],
   "source": [
    "from sklearn.model_selection import train_test_split\n",
    "x_train, x_test, y_train, y_test = train_test_split(x,y, test_size = 0.25, random_state = 4)"
   ]
  },
  {
   "cell_type": "code",
   "execution_count": 17,
   "id": "034d3fef",
   "metadata": {},
   "outputs": [],
   "source": [
    "m1 = smf.OLS(y_train, x_train).fit()"
   ]
  },
  {
   "cell_type": "code",
   "execution_count": 18,
   "id": "4f0762d1",
   "metadata": {},
   "outputs": [
    {
     "data": {
      "text/html": [
       "<table class=\"simpletable\">\n",
       "<tr>\n",
       "          <td>Model:</td>                 <td>OLS</td>       <td>Adj. R-squared (uncentered):</td>    <td>0.984</td>  \n",
       "</tr>\n",
       "<tr>\n",
       "    <td>Dependent Variable:</td>        <td>Profit</td>                  <td>AIC:</td>              <td>819.9146</td> \n",
       "</tr>\n",
       "<tr>\n",
       "           <td>Date:</td>          <td>2021-07-05 18:25</td>             <td>BIC:</td>              <td>827.9692</td> \n",
       "</tr>\n",
       "<tr>\n",
       "     <td>No. Observations:</td>           <td>37</td>               <td>Log-Likelihood:</td>         <td>-404.96</td> \n",
       "</tr>\n",
       "<tr>\n",
       "         <td>Df Model:</td>                <td>5</td>                <td>F-statistic:</td>            <td>466.5</td>  \n",
       "</tr>\n",
       "<tr>\n",
       "       <td>Df Residuals:</td>             <td>32</td>             <td>Prob (F-statistic):</td>      <td>6.70e-29</td> \n",
       "</tr>\n",
       "<tr>\n",
       "  <td>R-squared (uncentered):</td>       <td>0.986</td>                 <td>Scale:</td>            <td>2.1732e+08</td>\n",
       "</tr>\n",
       "</table>\n",
       "<table class=\"simpletable\">\n",
       "<tr>\n",
       "         <td></td>           <th>Coef.</th>   <th>Std.Err.</th>     <th>t</th>    <th>P>|t|</th>   <th>[0.025</th>     <th>0.975]</th>  \n",
       "</tr>\n",
       "<tr>\n",
       "  <th>R&D Spend</th>        <td>0.7120</td>    <td>0.0803</td>   <td>8.8684</td> <td>0.0000</td>   <td>0.5485</td>     <td>0.8756</td>  \n",
       "</tr>\n",
       "<tr>\n",
       "  <th>Administration</th>   <td>0.3159</td>    <td>0.0411</td>   <td>7.6916</td> <td>0.0000</td>   <td>0.2323</td>     <td>0.3996</td>  \n",
       "</tr>\n",
       "<tr>\n",
       "  <th>Marketing Spend</th>  <td>0.0750</td>    <td>0.0273</td>   <td>2.7471</td> <td>0.0098</td>   <td>0.0194</td>     <td>0.1307</td>  \n",
       "</tr>\n",
       "<tr>\n",
       "  <th>State_Florida</th>   <td>4648.3053</td> <td>6599.1745</td> <td>0.7044</td> <td>0.4863</td> <td>-8793.7733</td> <td>18090.3839</td>\n",
       "</tr>\n",
       "<tr>\n",
       "  <th>State_New York</th>  <td>5254.3203</td> <td>5589.2778</td> <td>0.9401</td> <td>0.3542</td> <td>-6130.6660</td> <td>16639.3067</td>\n",
       "</tr>\n",
       "</table>\n",
       "<table class=\"simpletable\">\n",
       "<tr>\n",
       "     <td>Omnibus:</td>     <td>1.086</td>  <td>Durbin-Watson:</td>    <td>2.162</td>\n",
       "</tr>\n",
       "<tr>\n",
       "  <td>Prob(Omnibus):</td>  <td>0.581</td> <td>Jarque-Bera (JB):</td>  <td>1.075</td>\n",
       "</tr>\n",
       "<tr>\n",
       "       <td>Skew:</td>     <td>-0.288</td>     <td>Prob(JB):</td>      <td>0.584</td>\n",
       "</tr>\n",
       "<tr>\n",
       "     <td>Kurtosis:</td>    <td>2.395</td>  <td>Condition No.:</td>   <td>863038</td>\n",
       "</tr>\n",
       "</table>"
      ],
      "text/plain": [
       "<class 'statsmodels.iolib.summary2.Summary'>\n",
       "\"\"\"\n",
       "                        Results: Ordinary least squares\n",
       "================================================================================\n",
       "Model:                  OLS              Adj. R-squared (uncentered): 0.984     \n",
       "Dependent Variable:     Profit           AIC:                         819.9146  \n",
       "Date:                   2021-07-05 18:25 BIC:                         827.9692  \n",
       "No. Observations:       37               Log-Likelihood:              -404.96   \n",
       "Df Model:               5                F-statistic:                 466.5     \n",
       "Df Residuals:           32               Prob (F-statistic):          6.70e-29  \n",
       "R-squared (uncentered): 0.986            Scale:                       2.1732e+08\n",
       "---------------------------------------------------------------------------------\n",
       "                       Coef.     Std.Err.    t     P>|t|     [0.025      0.975]  \n",
       "---------------------------------------------------------------------------------\n",
       "R&D Spend               0.7120     0.0803  8.8684  0.0000      0.5485      0.8756\n",
       "Administration          0.3159     0.0411  7.6916  0.0000      0.2323      0.3996\n",
       "Marketing Spend         0.0750     0.0273  2.7471  0.0098      0.0194      0.1307\n",
       "State_Florida        4648.3053  6599.1745  0.7044  0.4863  -8793.7733  18090.3839\n",
       "State_New York       5254.3203  5589.2778  0.9401  0.3542  -6130.6660  16639.3067\n",
       "--------------------------------------------------------------------------------\n",
       "Omnibus:                   1.086             Durbin-Watson:               2.162 \n",
       "Prob(Omnibus):             0.581             Jarque-Bera (JB):            1.075 \n",
       "Skew:                      -0.288            Prob(JB):                    0.584 \n",
       "Kurtosis:                  2.395             Condition No.:               863038\n",
       "================================================================================\n",
       "* The condition number is large (9e+05). This might indicate             strong\n",
       "multicollinearity or other numerical problems.\n",
       "\"\"\""
      ]
     },
     "execution_count": 18,
     "metadata": {},
     "output_type": "execute_result"
    }
   ],
   "source": [
    "m1.summary2()"
   ]
  },
  {
   "cell_type": "code",
   "execution_count": 19,
   "id": "23824f93",
   "metadata": {},
   "outputs": [],
   "source": [
    "y_train2 = np.sqrt(y_train)"
   ]
  },
  {
   "cell_type": "code",
   "execution_count": 20,
   "id": "7dbdabf1",
   "metadata": {},
   "outputs": [
    {
     "data": {
      "text/plain": [
       "15    360.440064\n",
       "16    356.360674\n",
       "27    324.049857\n",
       "37    299.915221\n",
       "20    344.200567\n",
       "Name: Profit, dtype: float64"
      ]
     },
     "execution_count": 20,
     "metadata": {},
     "output_type": "execute_result"
    }
   ],
   "source": [
    "y_train2.head()"
   ]
  },
  {
   "cell_type": "code",
   "execution_count": 21,
   "id": "e070dd36",
   "metadata": {},
   "outputs": [],
   "source": [
    "m2 = smf.OLS(y_train2,x_train).fit()"
   ]
  },
  {
   "cell_type": "code",
   "execution_count": 22,
   "id": "12f79923",
   "metadata": {},
   "outputs": [
    {
     "data": {
      "text/html": [
       "<table class=\"simpletable\">\n",
       "<tr>\n",
       "          <td>Model:</td>                 <td>OLS</td>       <td>Adj. R-squared (uncentered):</td>   <td>0.975</td> \n",
       "</tr>\n",
       "<tr>\n",
       "    <td>Dependent Variable:</td>        <td>Profit</td>                  <td>AIC:</td>             <td>402.6975</td>\n",
       "</tr>\n",
       "<tr>\n",
       "           <td>Date:</td>          <td>2021-07-05 18:26</td>             <td>BIC:</td>             <td>410.7521</td>\n",
       "</tr>\n",
       "<tr>\n",
       "     <td>No. Observations:</td>           <td>37</td>               <td>Log-Likelihood:</td>        <td>-196.35</td>\n",
       "</tr>\n",
       "<tr>\n",
       "         <td>Df Model:</td>                <td>5</td>                <td>F-statistic:</td>           <td>290.2</td> \n",
       "</tr>\n",
       "<tr>\n",
       "       <td>Df Residuals:</td>             <td>32</td>             <td>Prob (F-statistic):</td>     <td>1.16e-25</td>\n",
       "</tr>\n",
       "<tr>\n",
       "  <td>R-squared (uncentered):</td>       <td>0.978</td>                 <td>Scale:</td>             <td>2753.8</td> \n",
       "</tr>\n",
       "</table>\n",
       "<table class=\"simpletable\">\n",
       "<tr>\n",
       "         <td></td>          <th>Coef.</th>  <th>Std.Err.</th>    <th>t</th>     <th>P>|t|</th>  <th>[0.025</th>  <th>0.975]</th> \n",
       "</tr>\n",
       "<tr>\n",
       "  <th>R&D Spend</th>       <td>0.0008</td>   <td>0.0003</td>  <td>2.9633</td>  <td>0.0057</td>  <td>0.0003</td>  <td>0.0014</td> \n",
       "</tr>\n",
       "<tr>\n",
       "  <th>Administration</th>  <td>0.0016</td>   <td>0.0001</td>  <td>10.6512</td> <td>0.0000</td>  <td>0.0013</td>  <td>0.0019</td> \n",
       "</tr>\n",
       "<tr>\n",
       "  <th>Marketing Spend</th> <td>0.0003</td>   <td>0.0001</td>  <td>2.5996</td>  <td>0.0140</td>  <td>0.0001</td>  <td>0.0005</td> \n",
       "</tr>\n",
       "<tr>\n",
       "  <th>State_Florida</th>   <td>19.3363</td>  <td>23.4913</td> <td>0.8231</td>  <td>0.4165</td> <td>-28.5140</td> <td>67.1866</td>\n",
       "</tr>\n",
       "<tr>\n",
       "  <th>State_New York</th>  <td>22.1796</td>  <td>19.8964</td> <td>1.1148</td>  <td>0.2733</td> <td>-18.3480</td> <td>62.7072</td>\n",
       "</tr>\n",
       "</table>\n",
       "<table class=\"simpletable\">\n",
       "<tr>\n",
       "     <td>Omnibus:</td>    <td>0.481</td>  <td>Durbin-Watson:</td>    <td>2.069</td>\n",
       "</tr>\n",
       "<tr>\n",
       "  <td>Prob(Omnibus):</td> <td>0.786</td> <td>Jarque-Bera (JB):</td>  <td>0.515</td>\n",
       "</tr>\n",
       "<tr>\n",
       "       <td>Skew:</td>     <td>0.246</td>     <td>Prob(JB):</td>      <td>0.773</td>\n",
       "</tr>\n",
       "<tr>\n",
       "     <td>Kurtosis:</td>   <td>2.696</td>  <td>Condition No.:</td>   <td>863038</td>\n",
       "</tr>\n",
       "</table>"
      ],
      "text/plain": [
       "<class 'statsmodels.iolib.summary2.Summary'>\n",
       "\"\"\"\n",
       "                       Results: Ordinary least squares\n",
       "==============================================================================\n",
       "Model:                  OLS              Adj. R-squared (uncentered): 0.975   \n",
       "Dependent Variable:     Profit           AIC:                         402.6975\n",
       "Date:                   2021-07-05 18:26 BIC:                         410.7521\n",
       "No. Observations:       37               Log-Likelihood:              -196.35 \n",
       "Df Model:               5                F-statistic:                 290.2   \n",
       "Df Residuals:           32               Prob (F-statistic):          1.16e-25\n",
       "R-squared (uncentered): 0.978            Scale:                       2753.8  \n",
       "--------------------------------------------------------------------------------\n",
       "                       Coef.    Std.Err.      t      P>|t|     [0.025     0.975]\n",
       "--------------------------------------------------------------------------------\n",
       "R&D Spend              0.0008     0.0003    2.9633   0.0057     0.0003    0.0014\n",
       "Administration         0.0016     0.0001   10.6512   0.0000     0.0013    0.0019\n",
       "Marketing Spend        0.0003     0.0001    2.5996   0.0140     0.0001    0.0005\n",
       "State_Florida         19.3363    23.4913    0.8231   0.4165   -28.5140   67.1866\n",
       "State_New York        22.1796    19.8964    1.1148   0.2733   -18.3480   62.7072\n",
       "------------------------------------------------------------------------------\n",
       "Omnibus:                  0.481            Durbin-Watson:               2.069 \n",
       "Prob(Omnibus):            0.786            Jarque-Bera (JB):            0.515 \n",
       "Skew:                     0.246            Prob(JB):                    0.773 \n",
       "Kurtosis:                 2.696            Condition No.:               863038\n",
       "==============================================================================\n",
       "* The condition number is large (9e+05). This might indicate\n",
       "strong multicollinearity or other numerical problems.\n",
       "\"\"\""
      ]
     },
     "execution_count": 22,
     "metadata": {},
     "output_type": "execute_result"
    }
   ],
   "source": [
    "m2.summary2()"
   ]
  },
  {
   "cell_type": "code",
   "execution_count": 23,
   "id": "02e1e139",
   "metadata": {},
   "outputs": [],
   "source": [
    "y_train3 = np.log(y_train)"
   ]
  },
  {
   "cell_type": "code",
   "execution_count": 24,
   "id": "d80d8147",
   "metadata": {},
   "outputs": [
    {
     "data": {
      "text/plain": [
       "15    11.774651\n",
       "16    11.751887\n",
       "27    11.561795\n",
       "37    11.407000\n",
       "20    11.682449\n",
       "Name: Profit, dtype: float64"
      ]
     },
     "execution_count": 24,
     "metadata": {},
     "output_type": "execute_result"
    }
   ],
   "source": [
    "y_train3.head()"
   ]
  },
  {
   "cell_type": "code",
   "execution_count": 25,
   "id": "7822e023",
   "metadata": {},
   "outputs": [],
   "source": [
    "m3 = smf.OLS(y_train3,x_train).fit()"
   ]
  },
  {
   "cell_type": "code",
   "execution_count": 26,
   "id": "497719ee",
   "metadata": {},
   "outputs": [
    {
     "data": {
      "text/html": [
       "<table class=\"simpletable\">\n",
       "<tr>\n",
       "          <td>Model:</td>                 <td>OLS</td>       <td>Adj. R-squared (uncentered):</td>   <td>0.965</td> \n",
       "</tr>\n",
       "<tr>\n",
       "    <td>Dependent Variable:</td>        <td>Profit</td>                  <td>AIC:</td>             <td>166.1984</td>\n",
       "</tr>\n",
       "<tr>\n",
       "           <td>Date:</td>          <td>2021-07-05 18:26</td>             <td>BIC:</td>             <td>174.2530</td>\n",
       "</tr>\n",
       "<tr>\n",
       "     <td>No. Observations:</td>           <td>37</td>               <td>Log-Likelihood:</td>        <td>-78.099</td>\n",
       "</tr>\n",
       "<tr>\n",
       "         <td>Df Model:</td>                <td>5</td>                <td>F-statistic:</td>           <td>206.9</td> \n",
       "</tr>\n",
       "<tr>\n",
       "       <td>Df Residuals:</td>             <td>32</td>             <td>Prob (F-statistic):</td>     <td>2.23e-23</td>\n",
       "</tr>\n",
       "<tr>\n",
       "  <td>R-squared (uncentered):</td>       <td>0.970</td>                 <td>Scale:</td>             <td>4.6130</td> \n",
       "</tr>\n",
       "</table>\n",
       "<table class=\"simpletable\">\n",
       "<tr>\n",
       "         <td></td>          <th>Coef.</th>  <th>Std.Err.</th>    <th>t</th>     <th>P>|t|</th> <th>[0.025</th>  <th>0.975]</th>\n",
       "</tr>\n",
       "<tr>\n",
       "  <th>R&D Spend</th>       <td>-0.0000</td>  <td>0.0000</td>  <td>-0.9391</td> <td>0.3547</td> <td>-0.0000</td> <td>0.0000</td>\n",
       "</tr>\n",
       "<tr>\n",
       "  <th>Administration</th>  <td>0.0001</td>   <td>0.0000</td>  <td>12.6873</td> <td>0.0000</td> <td>0.0001</td>  <td>0.0001</td>\n",
       "</tr>\n",
       "<tr>\n",
       "  <th>Marketing Spend</th> <td>0.0000</td>   <td>0.0000</td>  <td>2.6415</td>  <td>0.0127</td> <td>0.0000</td>  <td>0.0000</td>\n",
       "</tr>\n",
       "<tr>\n",
       "  <th>State_Florida</th>   <td>0.6374</td>   <td>0.9615</td>  <td>0.6629</td>  <td>0.5121</td> <td>-1.3210</td> <td>2.5958</td>\n",
       "</tr>\n",
       "<tr>\n",
       "  <th>State_New York</th>  <td>0.7440</td>   <td>0.8143</td>  <td>0.9137</td>  <td>0.3677</td> <td>-0.9147</td> <td>2.4028</td>\n",
       "</tr>\n",
       "</table>\n",
       "<table class=\"simpletable\">\n",
       "<tr>\n",
       "     <td>Omnibus:</td>    <td>2.281</td>  <td>Durbin-Watson:</td>    <td>2.056</td>\n",
       "</tr>\n",
       "<tr>\n",
       "  <td>Prob(Omnibus):</td> <td>0.320</td> <td>Jarque-Bera (JB):</td>  <td>1.531</td>\n",
       "</tr>\n",
       "<tr>\n",
       "       <td>Skew:</td>     <td>0.494</td>     <td>Prob(JB):</td>      <td>0.465</td>\n",
       "</tr>\n",
       "<tr>\n",
       "     <td>Kurtosis:</td>   <td>3.132</td>  <td>Condition No.:</td>   <td>863038</td>\n",
       "</tr>\n",
       "</table>"
      ],
      "text/plain": [
       "<class 'statsmodels.iolib.summary2.Summary'>\n",
       "\"\"\"\n",
       "                       Results: Ordinary least squares\n",
       "==============================================================================\n",
       "Model:                  OLS              Adj. R-squared (uncentered): 0.965   \n",
       "Dependent Variable:     Profit           AIC:                         166.1984\n",
       "Date:                   2021-07-05 18:26 BIC:                         174.2530\n",
       "No. Observations:       37               Log-Likelihood:              -78.099 \n",
       "Df Model:               5                F-statistic:                 206.9   \n",
       "Df Residuals:           32               Prob (F-statistic):          2.23e-23\n",
       "R-squared (uncentered): 0.970            Scale:                       4.6130  \n",
       "---------------------------------------------------------------------------------\n",
       "                     Coef.     Std.Err.       t       P>|t|      [0.025    0.975]\n",
       "---------------------------------------------------------------------------------\n",
       "R&D Spend           -0.0000      0.0000    -0.9391    0.3547    -0.0000    0.0000\n",
       "Administration       0.0001      0.0000    12.6873    0.0000     0.0001    0.0001\n",
       "Marketing Spend      0.0000      0.0000     2.6415    0.0127     0.0000    0.0000\n",
       "State_Florida        0.6374      0.9615     0.6629    0.5121    -1.3210    2.5958\n",
       "State_New York       0.7440      0.8143     0.9137    0.3677    -0.9147    2.4028\n",
       "------------------------------------------------------------------------------\n",
       "Omnibus:                  2.281            Durbin-Watson:               2.056 \n",
       "Prob(Omnibus):            0.320            Jarque-Bera (JB):            1.531 \n",
       "Skew:                     0.494            Prob(JB):                    0.465 \n",
       "Kurtosis:                 3.132            Condition No.:               863038\n",
       "==============================================================================\n",
       "* The condition number is large (9e+05). This might indicate\n",
       "strong multicollinearity or other numerical problems.\n",
       "\"\"\""
      ]
     },
     "execution_count": 26,
     "metadata": {},
     "output_type": "execute_result"
    }
   ],
   "source": [
    "m3.summary2()"
   ]
  },
  {
   "cell_type": "code",
   "execution_count": 27,
   "id": "c02eaea7",
   "metadata": {},
   "outputs": [],
   "source": [
    "x_train1 = x_train.drop([\"State_Florida\",\"State_New York\"],axis = 1)"
   ]
  },
  {
   "cell_type": "code",
   "execution_count": 28,
   "id": "35bca95b",
   "metadata": {},
   "outputs": [
    {
     "data": {
      "text/html": [
       "<div>\n",
       "<style scoped>\n",
       "    .dataframe tbody tr th:only-of-type {\n",
       "        vertical-align: middle;\n",
       "    }\n",
       "\n",
       "    .dataframe tbody tr th {\n",
       "        vertical-align: top;\n",
       "    }\n",
       "\n",
       "    .dataframe thead th {\n",
       "        text-align: right;\n",
       "    }\n",
       "</style>\n",
       "<table border=\"1\" class=\"dataframe\">\n",
       "  <thead>\n",
       "    <tr style=\"text-align: right;\">\n",
       "      <th></th>\n",
       "      <th>R&amp;D Spend</th>\n",
       "      <th>Administration</th>\n",
       "      <th>Marketing Spend</th>\n",
       "    </tr>\n",
       "  </thead>\n",
       "  <tbody>\n",
       "    <tr>\n",
       "      <th>15</th>\n",
       "      <td>114523.61</td>\n",
       "      <td>122616.84</td>\n",
       "      <td>261776.23</td>\n",
       "    </tr>\n",
       "    <tr>\n",
       "      <th>16</th>\n",
       "      <td>78013.11</td>\n",
       "      <td>121597.55</td>\n",
       "      <td>264346.06</td>\n",
       "    </tr>\n",
       "    <tr>\n",
       "      <th>27</th>\n",
       "      <td>72107.60</td>\n",
       "      <td>127864.55</td>\n",
       "      <td>353183.81</td>\n",
       "    </tr>\n",
       "    <tr>\n",
       "      <th>37</th>\n",
       "      <td>44069.95</td>\n",
       "      <td>51283.14</td>\n",
       "      <td>197029.42</td>\n",
       "    </tr>\n",
       "    <tr>\n",
       "      <th>20</th>\n",
       "      <td>76253.86</td>\n",
       "      <td>113867.30</td>\n",
       "      <td>298664.47</td>\n",
       "    </tr>\n",
       "  </tbody>\n",
       "</table>\n",
       "</div>"
      ],
      "text/plain": [
       "    R&D Spend  Administration  Marketing Spend\n",
       "15  114523.61       122616.84        261776.23\n",
       "16   78013.11       121597.55        264346.06\n",
       "27   72107.60       127864.55        353183.81\n",
       "37   44069.95        51283.14        197029.42\n",
       "20   76253.86       113867.30        298664.47"
      ]
     },
     "execution_count": 28,
     "metadata": {},
     "output_type": "execute_result"
    }
   ],
   "source": [
    "x_train1.head()"
   ]
  },
  {
   "cell_type": "code",
   "execution_count": 29,
   "id": "46ab3401",
   "metadata": {},
   "outputs": [],
   "source": [
    "m4 = smf.OLS(y_train3,x_train1).fit()"
   ]
  },
  {
   "cell_type": "code",
   "execution_count": 30,
   "id": "53423f70",
   "metadata": {},
   "outputs": [
    {
     "data": {
      "text/html": [
       "<table class=\"simpletable\">\n",
       "<tr>\n",
       "          <td>Model:</td>                 <td>OLS</td>       <td>Adj. R-squared (uncentered):</td>   <td>0.966</td> \n",
       "</tr>\n",
       "<tr>\n",
       "    <td>Dependent Variable:</td>        <td>Profit</td>                  <td>AIC:</td>             <td>163.2459</td>\n",
       "</tr>\n",
       "<tr>\n",
       "           <td>Date:</td>          <td>2021-07-05 18:27</td>             <td>BIC:</td>             <td>168.0786</td>\n",
       "</tr>\n",
       "<tr>\n",
       "     <td>No. Observations:</td>           <td>37</td>               <td>Log-Likelihood:</td>        <td>-78.623</td>\n",
       "</tr>\n",
       "<tr>\n",
       "         <td>Df Model:</td>                <td>3</td>                <td>F-statistic:</td>           <td>355.8</td> \n",
       "</tr>\n",
       "<tr>\n",
       "       <td>Df Residuals:</td>             <td>34</td>             <td>Prob (F-statistic):</td>     <td>9.83e-26</td>\n",
       "</tr>\n",
       "<tr>\n",
       "  <td>R-squared (uncentered):</td>       <td>0.969</td>                 <td>Scale:</td>             <td>4.4663</td> \n",
       "</tr>\n",
       "</table>\n",
       "<table class=\"simpletable\">\n",
       "<tr>\n",
       "         <td></td>          <th>Coef.</th>  <th>Std.Err.</th>    <th>t</th>     <th>P>|t|</th> <th>[0.025</th>  <th>0.975]</th>\n",
       "</tr>\n",
       "<tr>\n",
       "  <th>R&D Spend</th>       <td>-0.0000</td>  <td>0.0000</td>  <td>-0.8516</td> <td>0.4004</td> <td>-0.0000</td> <td>0.0000</td>\n",
       "</tr>\n",
       "<tr>\n",
       "  <th>Administration</th>  <td>0.0001</td>   <td>0.0000</td>  <td>14.5459</td> <td>0.0000</td> <td>0.0001</td>  <td>0.0001</td>\n",
       "</tr>\n",
       "<tr>\n",
       "  <th>Marketing Spend</th> <td>0.0000</td>   <td>0.0000</td>  <td>2.7768</td>  <td>0.0089</td> <td>0.0000</td>  <td>0.0000</td>\n",
       "</tr>\n",
       "</table>\n",
       "<table class=\"simpletable\">\n",
       "<tr>\n",
       "     <td>Omnibus:</td>    <td>1.760</td>  <td>Durbin-Watson:</td>   <td>2.019</td>\n",
       "</tr>\n",
       "<tr>\n",
       "  <td>Prob(Omnibus):</td> <td>0.415</td> <td>Jarque-Bera (JB):</td> <td>1.284</td>\n",
       "</tr>\n",
       "<tr>\n",
       "       <td>Skew:</td>     <td>0.456</td>     <td>Prob(JB):</td>     <td>0.526</td>\n",
       "</tr>\n",
       "<tr>\n",
       "     <td>Kurtosis:</td>   <td>2.960</td>  <td>Condition No.:</td>    <td>10</td>  \n",
       "</tr>\n",
       "</table>"
      ],
      "text/plain": [
       "<class 'statsmodels.iolib.summary2.Summary'>\n",
       "\"\"\"\n",
       "                       Results: Ordinary least squares\n",
       "==============================================================================\n",
       "Model:                  OLS              Adj. R-squared (uncentered): 0.966   \n",
       "Dependent Variable:     Profit           AIC:                         163.2459\n",
       "Date:                   2021-07-05 18:27 BIC:                         168.0786\n",
       "No. Observations:       37               Log-Likelihood:              -78.623 \n",
       "Df Model:               3                F-statistic:                 355.8   \n",
       "Df Residuals:           34               Prob (F-statistic):          9.83e-26\n",
       "R-squared (uncentered): 0.969            Scale:                       4.4663  \n",
       "---------------------------------------------------------------------------------\n",
       "                     Coef.     Std.Err.       t       P>|t|      [0.025    0.975]\n",
       "---------------------------------------------------------------------------------\n",
       "R&D Spend           -0.0000      0.0000    -0.8516    0.4004    -0.0000    0.0000\n",
       "Administration       0.0001      0.0000    14.5459    0.0000     0.0001    0.0001\n",
       "Marketing Spend      0.0000      0.0000     2.7768    0.0089     0.0000    0.0000\n",
       "------------------------------------------------------------------------------\n",
       "Omnibus:                   1.760            Durbin-Watson:               2.019\n",
       "Prob(Omnibus):             0.415            Jarque-Bera (JB):            1.284\n",
       "Skew:                      0.456            Prob(JB):                    0.526\n",
       "Kurtosis:                  2.960            Condition No.:               10   \n",
       "==============================================================================\n",
       "\n",
       "\"\"\""
      ]
     },
     "execution_count": 30,
     "metadata": {},
     "output_type": "execute_result"
    }
   ],
   "source": [
    "m4.summary2()"
   ]
  },
  {
   "cell_type": "code",
   "execution_count": 31,
   "id": "8257f709",
   "metadata": {},
   "outputs": [],
   "source": [
    "x_train2 = x_train.drop([\"State_Florida\",\"State_New York\"],axis = 1)"
   ]
  },
  {
   "cell_type": "code",
   "execution_count": 32,
   "id": "5e710831",
   "metadata": {},
   "outputs": [
    {
     "data": {
      "text/html": [
       "<div>\n",
       "<style scoped>\n",
       "    .dataframe tbody tr th:only-of-type {\n",
       "        vertical-align: middle;\n",
       "    }\n",
       "\n",
       "    .dataframe tbody tr th {\n",
       "        vertical-align: top;\n",
       "    }\n",
       "\n",
       "    .dataframe thead th {\n",
       "        text-align: right;\n",
       "    }\n",
       "</style>\n",
       "<table border=\"1\" class=\"dataframe\">\n",
       "  <thead>\n",
       "    <tr style=\"text-align: right;\">\n",
       "      <th></th>\n",
       "      <th>R&amp;D Spend</th>\n",
       "      <th>Administration</th>\n",
       "      <th>Marketing Spend</th>\n",
       "    </tr>\n",
       "  </thead>\n",
       "  <tbody>\n",
       "    <tr>\n",
       "      <th>15</th>\n",
       "      <td>114523.61</td>\n",
       "      <td>122616.84</td>\n",
       "      <td>261776.23</td>\n",
       "    </tr>\n",
       "    <tr>\n",
       "      <th>16</th>\n",
       "      <td>78013.11</td>\n",
       "      <td>121597.55</td>\n",
       "      <td>264346.06</td>\n",
       "    </tr>\n",
       "    <tr>\n",
       "      <th>27</th>\n",
       "      <td>72107.60</td>\n",
       "      <td>127864.55</td>\n",
       "      <td>353183.81</td>\n",
       "    </tr>\n",
       "    <tr>\n",
       "      <th>37</th>\n",
       "      <td>44069.95</td>\n",
       "      <td>51283.14</td>\n",
       "      <td>197029.42</td>\n",
       "    </tr>\n",
       "    <tr>\n",
       "      <th>20</th>\n",
       "      <td>76253.86</td>\n",
       "      <td>113867.30</td>\n",
       "      <td>298664.47</td>\n",
       "    </tr>\n",
       "  </tbody>\n",
       "</table>\n",
       "</div>"
      ],
      "text/plain": [
       "    R&D Spend  Administration  Marketing Spend\n",
       "15  114523.61       122616.84        261776.23\n",
       "16   78013.11       121597.55        264346.06\n",
       "27   72107.60       127864.55        353183.81\n",
       "37   44069.95        51283.14        197029.42\n",
       "20   76253.86       113867.30        298664.47"
      ]
     },
     "execution_count": 32,
     "metadata": {},
     "output_type": "execute_result"
    }
   ],
   "source": [
    "x_train2.head()"
   ]
  },
  {
   "cell_type": "code",
   "execution_count": 33,
   "id": "4b1d4449",
   "metadata": {},
   "outputs": [],
   "source": [
    "m5 = smf.OLS(y_train,x_train1).fit()"
   ]
  },
  {
   "cell_type": "code",
   "execution_count": 34,
   "id": "4f092e56",
   "metadata": {},
   "outputs": [
    {
     "data": {
      "text/html": [
       "<table class=\"simpletable\">\n",
       "<tr>\n",
       "          <td>Model:</td>                 <td>OLS</td>       <td>Adj. R-squared (uncentered):</td>    <td>0.985</td>  \n",
       "</tr>\n",
       "<tr>\n",
       "    <td>Dependent Variable:</td>        <td>Profit</td>                  <td>AIC:</td>              <td>817.0399</td> \n",
       "</tr>\n",
       "<tr>\n",
       "           <td>Date:</td>          <td>2021-07-05 18:27</td>             <td>BIC:</td>              <td>821.8726</td> \n",
       "</tr>\n",
       "<tr>\n",
       "     <td>No. Observations:</td>           <td>37</td>               <td>Log-Likelihood:</td>         <td>-405.52</td> \n",
       "</tr>\n",
       "<tr>\n",
       "         <td>Df Model:</td>                <td>3</td>                <td>F-statistic:</td>            <td>801.0</td>  \n",
       "</tr>\n",
       "<tr>\n",
       "       <td>Df Residuals:</td>             <td>34</td>             <td>Prob (F-statistic):</td>      <td>1.36e-31</td> \n",
       "</tr>\n",
       "<tr>\n",
       "  <td>R-squared (uncentered):</td>       <td>0.986</td>                 <td>Scale:</td>            <td>2.1085e+08</td>\n",
       "</tr>\n",
       "</table>\n",
       "<table class=\"simpletable\">\n",
       "<tr>\n",
       "         <td></td>          <th>Coef.</th> <th>Std.Err.</th>    <th>t</th>    <th>P>|t|</th> <th>[0.025</th> <th>0.975]</th>\n",
       "</tr>\n",
       "<tr>\n",
       "  <th>R&D Spend</th>       <td>0.7211</td>  <td>0.0782</td>  <td>9.2257</td> <td>0.0000</td> <td>0.5622</td> <td>0.8799</td>\n",
       "</tr>\n",
       "<tr>\n",
       "  <th>Administration</th>  <td>0.3325</td>  <td>0.0370</td>  <td>8.9958</td> <td>0.0000</td> <td>0.2574</td> <td>0.4076</td>\n",
       "</tr>\n",
       "<tr>\n",
       "  <th>Marketing Spend</th> <td>0.0769</td>  <td>0.0266</td>  <td>2.8875</td> <td>0.0067</td> <td>0.0228</td> <td>0.1311</td>\n",
       "</tr>\n",
       "</table>\n",
       "<table class=\"simpletable\">\n",
       "<tr>\n",
       "     <td>Omnibus:</td>     <td>0.343</td>  <td>Durbin-Watson:</td>   <td>2.072</td>\n",
       "</tr>\n",
       "<tr>\n",
       "  <td>Prob(Omnibus):</td>  <td>0.843</td> <td>Jarque-Bera (JB):</td> <td>0.516</td>\n",
       "</tr>\n",
       "<tr>\n",
       "       <td>Skew:</td>     <td>-0.129</td>     <td>Prob(JB):</td>     <td>0.772</td>\n",
       "</tr>\n",
       "<tr>\n",
       "     <td>Kurtosis:</td>    <td>2.482</td>  <td>Condition No.:</td>    <td>10</td>  \n",
       "</tr>\n",
       "</table>"
      ],
      "text/plain": [
       "<class 'statsmodels.iolib.summary2.Summary'>\n",
       "\"\"\"\n",
       "                        Results: Ordinary least squares\n",
       "================================================================================\n",
       "Model:                  OLS              Adj. R-squared (uncentered): 0.985     \n",
       "Dependent Variable:     Profit           AIC:                         817.0399  \n",
       "Date:                   2021-07-05 18:27 BIC:                         821.8726  \n",
       "No. Observations:       37               Log-Likelihood:              -405.52   \n",
       "Df Model:               3                F-statistic:                 801.0     \n",
       "Df Residuals:           34               Prob (F-statistic):          1.36e-31  \n",
       "R-squared (uncentered): 0.986            Scale:                       2.1085e+08\n",
       "------------------------------------------------------------------------------------\n",
       "                     Coef.      Std.Err.       t        P>|t|      [0.025     0.975]\n",
       "------------------------------------------------------------------------------------\n",
       "R&D Spend            0.7211       0.0782     9.2257     0.0000     0.5622     0.8799\n",
       "Administration       0.3325       0.0370     8.9958     0.0000     0.2574     0.4076\n",
       "Marketing Spend      0.0769       0.0266     2.8875     0.0067     0.0228     0.1311\n",
       "--------------------------------------------------------------------------------\n",
       "Omnibus:                    0.343             Durbin-Watson:               2.072\n",
       "Prob(Omnibus):              0.843             Jarque-Bera (JB):            0.516\n",
       "Skew:                       -0.129            Prob(JB):                    0.772\n",
       "Kurtosis:                   2.482             Condition No.:               10   \n",
       "================================================================================\n",
       "\n",
       "\"\"\""
      ]
     },
     "execution_count": 34,
     "metadata": {},
     "output_type": "execute_result"
    }
   ],
   "source": [
    "m5.summary2()"
   ]
  },
  {
   "cell_type": "code",
   "execution_count": 35,
   "id": "556add7b",
   "metadata": {},
   "outputs": [
    {
     "data": {
      "text/plain": [
       "0.9860475817674978"
      ]
     },
     "execution_count": 35,
     "metadata": {},
     "output_type": "execute_result"
    }
   ],
   "source": [
    "m5.rsquared"
   ]
  },
  {
   "cell_type": "code",
   "execution_count": 36,
   "id": "7842d2b2",
   "metadata": {},
   "outputs": [],
   "source": [
    "data = [{'R Square Values': m1.rsquared, 'AIC':m1.aic}, {'R Square Values': m2.rsquared, 'AIC':m2.aic},{'R Square Values': m3.rsquared, 'AIC':m3.aic}, {'R Square Values': m4.rsquared, 'AIC':m4.aic}, {'R Square Values': m5.rsquared, 'AIC':m5.aic}]"
   ]
  },
  {
   "cell_type": "code",
   "execution_count": 37,
   "id": "82128773",
   "metadata": {},
   "outputs": [],
   "source": [
    "df = pd.DataFrame(data, index =['Model without any modification', 'Y transformed using sqrt','Y transformed using natural log','Y -ln with insignificant variables removed','Insignificant values removed with original model'])\n",
    "  "
   ]
  },
  {
   "cell_type": "code",
   "execution_count": 38,
   "id": "a457d251",
   "metadata": {},
   "outputs": [
    {
     "data": {
      "text/html": [
       "<div>\n",
       "<style scoped>\n",
       "    .dataframe tbody tr th:only-of-type {\n",
       "        vertical-align: middle;\n",
       "    }\n",
       "\n",
       "    .dataframe tbody tr th {\n",
       "        vertical-align: top;\n",
       "    }\n",
       "\n",
       "    .dataframe thead th {\n",
       "        text-align: right;\n",
       "    }\n",
       "</style>\n",
       "<table border=\"1\" class=\"dataframe\">\n",
       "  <thead>\n",
       "    <tr style=\"text-align: right;\">\n",
       "      <th></th>\n",
       "      <th>R Square Values</th>\n",
       "      <th>AIC</th>\n",
       "    </tr>\n",
       "  </thead>\n",
       "  <tbody>\n",
       "    <tr>\n",
       "      <th>Model without any modification</th>\n",
       "      <td>0.986466</td>\n",
       "      <td>819.914586</td>\n",
       "    </tr>\n",
       "    <tr>\n",
       "      <th>Y transformed using sqrt</th>\n",
       "      <td>0.978421</td>\n",
       "      <td>402.697533</td>\n",
       "    </tr>\n",
       "    <tr>\n",
       "      <th>Y transformed using natural log</th>\n",
       "      <td>0.969992</td>\n",
       "      <td>166.198373</td>\n",
       "    </tr>\n",
       "    <tr>\n",
       "      <th>Y -ln with insignificant variables removed</th>\n",
       "      <td>0.969130</td>\n",
       "      <td>163.245889</td>\n",
       "    </tr>\n",
       "    <tr>\n",
       "      <th>Insignificant values removed with original model</th>\n",
       "      <td>0.986048</td>\n",
       "      <td>817.039860</td>\n",
       "    </tr>\n",
       "  </tbody>\n",
       "</table>\n",
       "</div>"
      ],
      "text/plain": [
       "                                                  R Square Values         AIC\n",
       "Model without any modification                           0.986466  819.914586\n",
       "Y transformed using sqrt                                 0.978421  402.697533\n",
       "Y transformed using natural log                          0.969992  166.198373\n",
       "Y -ln with insignificant variables removed               0.969130  163.245889\n",
       "Insignificant values removed with original model         0.986048  817.039860"
      ]
     },
     "execution_count": 38,
     "metadata": {},
     "output_type": "execute_result"
    }
   ],
   "source": [
    "df"
   ]
  },
  {
   "cell_type": "code",
   "execution_count": null,
   "id": "7ca1cce6",
   "metadata": {},
   "outputs": [],
   "source": []
  }
 ],
 "metadata": {
  "kernelspec": {
   "display_name": "Python 3",
   "language": "python",
   "name": "python3"
  },
  "language_info": {
   "codemirror_mode": {
    "name": "ipython",
    "version": 3
   },
   "file_extension": ".py",
   "mimetype": "text/x-python",
   "name": "python",
   "nbconvert_exporter": "python",
   "pygments_lexer": "ipython3",
   "version": "3.8.8"
  }
 },
 "nbformat": 4,
 "nbformat_minor": 5
}
